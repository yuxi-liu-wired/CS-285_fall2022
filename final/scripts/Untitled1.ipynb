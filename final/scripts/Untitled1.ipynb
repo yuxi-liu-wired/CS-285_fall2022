{
 "cells": [
  {
   "cell_type": "code",
   "execution_count": 3,
   "id": "1799ab75-c406-48ea-afd8-fecad8295ffc",
   "metadata": {},
   "outputs": [
    {
     "name": "stderr",
     "output_type": "stream",
     "text": [
      "/home/deadscholar/miniconda3/envs/rllib/lib/python3.10/site-packages/crafter/engine.py:126: DeprecationWarning: Starting with ImageIO v3 the behavior of this function will switch to that of iio.v3.imread. To keep the current behavior (and make this warning disappear) use `import imageio.v2 as imageio` or call `imageio.v2.imread` directly.\n",
      "  image = imageio.imread(filename.read_bytes())\n",
      "/home/deadscholar/miniconda3/envs/rllib/lib/python3.10/site-packages/crafter/worldgen.py:12: DeprecationWarning: `np.bool` is a deprecated alias for the builtin `bool`. To silence this warning, use `bool` by itself. Doing this will not modify any behavior and is safe. If you specifically wanted the numpy scalar type, use `np.bool_` here.\n",
      "Deprecated in NumPy 1.20; for more details and guidance: https://numpy.org/devdocs/release/1.20.0-notes.html#deprecations\n",
      "  tunnels = np.zeros(world.area, np.bool)\n"
     ]
    }
   ],
   "source": [
    "import gym\n",
    "import crafter\n",
    "\n",
    "env = gym.make('CrafterReward-v1')  # Or CrafterNoReward-v1\n",
    "env = crafter.Recorder(\n",
    "  env, './data/crafter',\n",
    "  save_stats=True,\n",
    "  save_video=False,\n",
    "  save_episode=False,\n",
    ")\n",
    "\n",
    "obs = env.reset()\n",
    "done = False\n",
    "while not done:\n",
    "  action = env.action_space.sample()\n",
    "  obs, reward, done, info = env.step(action)\n"
   ]
  },
  {
   "cell_type": "code",
   "execution_count": 4,
   "id": "fc7fc8bb-f88d-4d2b-98dc-1d0622a8d521",
   "metadata": {},
   "outputs": [],
   "source": [
    "env = gym.make('CrafterReward-v1')  # Or CrafterNoReward-v1\n",
    "env = crafter.Recorder(\n",
    "  env, './data/crafter',\n",
    "  save_stats=False,\n",
    "  save_video=False,\n",
    "  save_episode=False,\n",
    ")\n",
    "\n",
    "obs = env.reset()\n",
    "done = False"
   ]
  },
  {
   "cell_type": "code",
   "execution_count": 6,
   "id": "31c76e69-90a1-4f9a-9fd8-b246a76c2dbf",
   "metadata": {},
   "outputs": [
    {
     "name": "stdout",
     "output_type": "stream",
     "text": [
      "[[[ 29 168  12]\n",
      "  [ 21 142  26]\n",
      "  [ 21 142  26]\n",
      "  ...\n",
      "  [ 21 142  26]\n",
      "  [ 21 142  26]\n",
      "  [  0   0   0]]\n",
      "\n",
      " [[ 29 168  12]\n",
      "  [ 21 142  26]\n",
      "  [ 21 142  26]\n",
      "  ...\n",
      "  [ 29 168  12]\n",
      "  [ 21 142  26]\n",
      "  [  0   0   0]]\n",
      "\n",
      " [[ 29 168  12]\n",
      "  [ 21 142  26]\n",
      "  [ 21 142  26]\n",
      "  ...\n",
      "  [ 29 168  12]\n",
      "  [ 21 142  26]\n",
      "  [  0   0   0]]\n",
      "\n",
      " ...\n",
      "\n",
      " [[  0   0   0]\n",
      "  [  0   0   0]\n",
      "  [  0   0   0]\n",
      "  ...\n",
      "  [  0   0   0]\n",
      "  [  0   0   0]\n",
      "  [  0   0   0]]\n",
      "\n",
      " [[  0   0   0]\n",
      "  [  0   0   0]\n",
      "  [  0   0   0]\n",
      "  ...\n",
      "  [  0   0   0]\n",
      "  [  0   0   0]\n",
      "  [  0   0   0]]\n",
      "\n",
      " [[  0   0   0]\n",
      "  [  0   0   0]\n",
      "  [  0   0   0]\n",
      "  ...\n",
      "  [  0   0   0]\n",
      "  [  0   0   0]\n",
      "  [  0   0   0]]]\n",
      "0.0\n",
      "False\n",
      "{'inventory': {'health': 9, 'food': 9, 'drink': 9, 'energy': 9, 'sapling': 0, 'wood': 0, 'stone': 0, 'coal': 0, 'iron': 0, 'diamond': 0, 'wood_pickaxe': 0, 'stone_pickaxe': 0, 'iron_pickaxe': 0, 'wood_sword': 0, 'stone_sword': 0, 'iron_sword': 0}, 'achievements': {'collect_coal': 0, 'collect_diamond': 0, 'collect_drink': 0, 'collect_iron': 0, 'collect_sapling': 0, 'collect_stone': 0, 'collect_wood': 0, 'defeat_skeleton': 0, 'defeat_zombie': 0, 'eat_cow': 0, 'eat_plant': 0, 'make_iron_pickaxe': 0, 'make_iron_sword': 0, 'make_stone_pickaxe': 0, 'make_stone_sword': 0, 'make_wood_pickaxe': 0, 'make_wood_sword': 0, 'place_furnace': 0, 'place_plant': 0, 'place_stone': 0, 'place_table': 0, 'wake_up': 0}, 'discount': 1.0, 'semantic': array([[ 2,  2,  2, ...,  1,  1,  1],\n",
      "       [ 2,  2, 14, ...,  5,  5,  5],\n",
      "       [ 2,  2,  2, ...,  2,  2,  2],\n",
      "       ...,\n",
      "       [ 1,  1,  1, ...,  2,  5,  5],\n",
      "       [ 1,  1,  1, ...,  5,  5,  1],\n",
      "       [ 1,  1,  1, ...,  5,  5,  1]], dtype=uint8), 'player_pos': array([32, 32]), 'reward': 0.0}\n"
     ]
    }
   ],
   "source": [
    "action = env.action_space.sample()\n",
    "obs, reward, done, info = env.step(action)\n",
    "print(obs)\n",
    "print(reward)\n",
    "print(done)\n",
    "print(info)"
   ]
  },
  {
   "cell_type": "code",
   "execution_count": 7,
   "id": "e3d719c8-c99e-4e53-9b86-42379423ece0",
   "metadata": {},
   "outputs": [
    {
     "data": {
      "text/plain": [
       "(64, 64, 3)"
      ]
     },
     "execution_count": 7,
     "metadata": {},
     "output_type": "execute_result"
    }
   ],
   "source": [
    "obs.shape"
   ]
  },
  {
   "cell_type": "code",
   "execution_count": 13,
   "id": "790e1f09-7b2d-4a82-afdf-c2d847c1cd0b",
   "metadata": {},
   "outputs": [
    {
     "name": "stdout",
     "output_type": "stream",
     "text": [
      "Box(0, 255, (64, 64, 3), uint8)\n",
      "Box(0, 255, (64, 64, 3), uint8)\n",
      "Box(0, 255, (64, 64, 3), uint8)\n",
      "Box(0, 255, (64, 64, 3), uint8)\n",
      "Box(0, 255, (64, 64, 3), uint8)\n",
      "Box(0, 255, (64, 64, 3), uint8)\n",
      "Box(0, 255, (64, 64, 3), uint8)\n",
      "Box(0, 255, (64, 64, 3), uint8)\n",
      "Box(0, 255, (64, 64, 3), uint8)\n",
      "Box(0, 255, (64, 64, 3), uint8)\n",
      "Box(0, 255, (64, 64, 3), uint8)\n",
      "Box(0, 255, (64, 64, 3), uint8)\n",
      "Box(0, 255, (64, 64, 3), uint8)\n",
      "Box(0, 255, (64, 64, 3), uint8)\n",
      "Box(0, 255, (64, 64, 3), uint8)\n",
      "Box(0, 255, (64, 64, 3), uint8)\n",
      "Box(0, 255, (64, 64, 3), uint8)\n",
      "Box(0, 255, (64, 64, 3), uint8)\n",
      "Box(0, 255, (64, 64, 3), uint8)\n",
      "Box(0, 255, (64, 64, 3), uint8)\n",
      "Box(0, 255, (64, 64, 3), uint8)\n",
      "Box(0, 255, (64, 64, 3), uint8)\n",
      "Box(0, 255, (64, 64, 3), uint8)\n",
      "Box(0, 255, (64, 64, 3), uint8)\n",
      "Box(0, 255, (64, 64, 3), uint8)\n",
      "Box(0, 255, (64, 64, 3), uint8)\n",
      "Box(0, 255, (64, 64, 3), uint8)\n",
      "Box(0, 255, (64, 64, 3), uint8)\n",
      "Box(0, 255, (64, 64, 3), uint8)\n",
      "Box(0, 255, (64, 64, 3), uint8)\n",
      "Box(0, 255, (64, 64, 3), uint8)\n",
      "Box(0, 255, (64, 64, 3), uint8)\n",
      "Box(0, 255, (64, 64, 3), uint8)\n",
      "Box(0, 255, (64, 64, 3), uint8)\n",
      "Box(0, 255, (64, 64, 3), uint8)\n",
      "Box(0, 255, (64, 64, 3), uint8)\n",
      "Box(0, 255, (64, 64, 3), uint8)\n",
      "Box(0, 255, (64, 64, 3), uint8)\n",
      "Box(0, 255, (64, 64, 3), uint8)\n",
      "Box(0, 255, (64, 64, 3), uint8)\n",
      "Box(0, 255, (64, 64, 3), uint8)\n",
      "Box(0, 255, (64, 64, 3), uint8)\n",
      "Box(0, 255, (64, 64, 3), uint8)\n",
      "Box(0, 255, (64, 64, 3), uint8)\n",
      "Box(0, 255, (64, 64, 3), uint8)\n",
      "Box(0, 255, (64, 64, 3), uint8)\n",
      "Box(0, 255, (64, 64, 3), uint8)\n",
      "Box(0, 255, (64, 64, 3), uint8)\n",
      "Box(0, 255, (64, 64, 3), uint8)\n",
      "Box(0, 255, (64, 64, 3), uint8)\n",
      "Box(0, 255, (64, 64, 3), uint8)\n",
      "Box(0, 255, (64, 64, 3), uint8)\n",
      "Box(0, 255, (64, 64, 3), uint8)\n",
      "Box(0, 255, (64, 64, 3), uint8)\n",
      "Box(0, 255, (64, 64, 3), uint8)\n",
      "Box(0, 255, (64, 64, 3), uint8)\n",
      "Box(0, 255, (64, 64, 3), uint8)\n",
      "Box(0, 255, (64, 64, 3), uint8)\n",
      "Box(0, 255, (64, 64, 3), uint8)\n",
      "Box(0, 255, (64, 64, 3), uint8)\n",
      "Box(0, 255, (64, 64, 3), uint8)\n",
      "Box(0, 255, (64, 64, 3), uint8)\n",
      "Box(0, 255, (64, 64, 3), uint8)\n",
      "Box(0, 255, (64, 64, 3), uint8)\n",
      "Box(0, 255, (64, 64, 3), uint8)\n",
      "Box(0, 255, (64, 64, 3), uint8)\n",
      "Box(0, 255, (64, 64, 3), uint8)\n",
      "Box(0, 255, (64, 64, 3), uint8)\n",
      "Box(0, 255, (64, 64, 3), uint8)\n",
      "Box(0, 255, (64, 64, 3), uint8)\n",
      "Box(0, 255, (64, 64, 3), uint8)\n",
      "Box(0, 255, (64, 64, 3), uint8)\n",
      "Box(0, 255, (64, 64, 3), uint8)\n",
      "Box(0, 255, (64, 64, 3), uint8)\n",
      "Box(0, 255, (64, 64, 3), uint8)\n",
      "Box(0, 255, (64, 64, 3), uint8)\n",
      "Box(0, 255, (64, 64, 3), uint8)\n",
      "Box(0, 255, (64, 64, 3), uint8)\n",
      "Box(0, 255, (64, 64, 3), uint8)\n",
      "Box(0, 255, (64, 64, 3), uint8)\n",
      "Box(0, 255, (64, 64, 3), uint8)\n",
      "Box(0, 255, (64, 64, 3), uint8)\n",
      "Box(0, 255, (64, 64, 3), uint8)\n",
      "Box(0, 255, (64, 64, 3), uint8)\n",
      "Box(0, 255, (64, 64, 3), uint8)\n",
      "Box(0, 255, (64, 64, 3), uint8)\n",
      "Box(0, 255, (64, 64, 3), uint8)\n",
      "Box(0, 255, (64, 64, 3), uint8)\n",
      "Box(0, 255, (64, 64, 3), uint8)\n",
      "Box(0, 255, (64, 64, 3), uint8)\n",
      "Box(0, 255, (64, 64, 3), uint8)\n",
      "Box(0, 255, (64, 64, 3), uint8)\n",
      "Box(0, 255, (64, 64, 3), uint8)\n",
      "Box(0, 255, (64, 64, 3), uint8)\n",
      "Box(0, 255, (64, 64, 3), uint8)\n",
      "Box(0, 255, (64, 64, 3), uint8)\n",
      "Box(0, 255, (64, 64, 3), uint8)\n",
      "Box(0, 255, (64, 64, 3), uint8)\n",
      "Box(0, 255, (64, 64, 3), uint8)\n",
      "Box(0, 255, (64, 64, 3), uint8)\n"
     ]
    }
   ],
   "source": [
    "for _ in range(100):\n",
    "    print(env.observation_space)"
   ]
  },
  {
   "cell_type": "code",
   "execution_count": null,
   "id": "83f57baf-f06e-4846-8ed3-9d010668bc83",
   "metadata": {},
   "outputs": [],
   "source": []
  }
 ],
 "metadata": {
  "kernelspec": {
   "display_name": "Python [conda env:rllib]",
   "language": "python",
   "name": "conda-env-rllib-py"
  },
  "language_info": {
   "codemirror_mode": {
    "name": "ipython",
    "version": 3
   },
   "file_extension": ".py",
   "mimetype": "text/x-python",
   "name": "python",
   "nbconvert_exporter": "python",
   "pygments_lexer": "ipython3",
   "version": "3.10.6"
  }
 },
 "nbformat": 4,
 "nbformat_minor": 5
}
