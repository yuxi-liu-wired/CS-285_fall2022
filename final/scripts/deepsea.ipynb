{
 "cells": [
  {
   "cell_type": "code",
   "execution_count": 39,
   "id": "b0d0d563",
   "metadata": {
    "scrolled": false
   },
   "outputs": [
    {
     "name": "stdout",
     "output_type": "stream",
     "text": [
      "Automatic pdb calling has been turned ON\n"
     ]
    },
    {
     "name": "stderr",
     "output_type": "stream",
     "text": [
      "C:\\Users\\DeadScholar\\miniconda3\\lib\\site-packages\\gym\\utils\\passive_env_checker.py:31: UserWarning: \u001b[33mWARN: A Box observation space has an unconventional shape (neither an image, nor a 1D vector). We recommend flattening the observation to have only a 1D vector or use a custom policy to properly process the data. Actual observation shape: (210, 160)\u001b[0m\n",
      "  logger.warn(\n"
     ]
    },
    {
     "data": {
      "text/plain": [
       "(array([[  0,   0,   0, ...,   0,   0,   0],\n",
       "        [146, 146, 146, ..., 146, 146, 146],\n",
       "        [146, 146, 146, ..., 146, 146, 146],\n",
       "        ...,\n",
       "        [  0,   0,   0, ...,   0,   0,   0],\n",
       "        [  0,   0,   0, ...,   0,   0,   0],\n",
       "        [  0,   0,   0, ...,   0,   0,   0]], dtype=uint8),\n",
       " {'lives': 3, 'episode_frame_number': 0, 'frame_number': 0})"
      ]
     },
     "execution_count": 39,
     "metadata": {},
     "output_type": "execute_result"
    }
   ],
   "source": [
    "%pdb on\n",
    "import matplotlib.pyplot as plt\n",
    "import gym\n",
    "env = gym.make('ALE/MsPacman-v5', obs_type='grayscale')\n",
    "env.reset()"
   ]
  },
  {
   "cell_type": "code",
   "execution_count": 7,
   "id": "9a5a0a17",
   "metadata": {},
   "outputs": [
    {
     "name": "stdout",
     "output_type": "stream",
     "text": [
      "Discrete(9)\n",
      "Box(0, 255, (210, 160), uint8)\n",
      "(-inf, inf)\n"
     ]
    }
   ],
   "source": [
    "print(env.action_space)\n",
    "print(env.observation_space)\n",
    "print(env.reward_range)"
   ]
  },
  {
   "cell_type": "markdown",
   "id": "7d38b3b8",
   "metadata": {},
   "source": [
    "## Define the environment"
   ]
  },
  {
   "cell_type": "code",
   "execution_count": 116,
   "id": "e462f82a",
   "metadata": {},
   "outputs": [],
   "source": [
    "from typing import Optional\n",
    "import gym\n",
    "from gym import spaces\n",
    "import pygame\n",
    "import numpy as np\n",
    "import warnings\n",
    "\n",
    "# References: https://www.gymlibrary.dev/content/environment_creation/\n",
    "# https://github.com/deepmind/bsuite/blob/main/bsuite/environments/deep_sea.py\n",
    "\n",
    "class DeepSeaEnv(gym.Env):\n",
    "    metadata = {\"render_modes\": [\"human\", \"rgb_array\"], \"render_fps\": 4}\n",
    "    \n",
    "    def __init__(self,\n",
    "                 size: int,\n",
    "                 deterministic: bool = True,\n",
    "                 unscaled_move_cost: float = 0.01,\n",
    "                 randomize_actions: bool = True,\n",
    "                 seed: Optional[int] = None,\n",
    "                 mapping_seed: Optional[int] = None,\n",
    "                 render_mode=None):\n",
    "        \"\"\"Deep sea environment to test for deep exploration.\n",
    "        Args:\n",
    "          size: The size of `N` for the N x N grid of states.\n",
    "          deterministic: Whether transitions are deterministic (default) or 'windy',\n",
    "            i.e. the `right` action fails with probability 1/N.\n",
    "          unscaled_move_cost: The total cost for always moving right (no discounting).\n",
    "            The default (0.01) means the optimal policy gets 0.99 per episode.\n",
    "          randomize_actions: The definition of DeepSea environment includes random\n",
    "            mappings of actions: (0,1) -> (left, right) by state. For debugging\n",
    "            purposes, we include the option to turn this randomization off and\n",
    "            let 0=left, 1=right in every state.\n",
    "          seed: Random seed for rewards and transitions, if applicable.\n",
    "          mapping_seed: Random seed for action mapping, if applicable.\n",
    "        \"\"\"\n",
    "        super().__init__()\n",
    "        self._size = size\n",
    "        self._deterministic = deterministic\n",
    "        self._rng = np.random.RandomState(seed)\n",
    "        \n",
    "        # observation (x, y) is the agent's location.\n",
    "        self.observation_space = spaces.Tuple((spaces.Discrete(size), spaces.Discrete(size)))\n",
    "\n",
    "        # 2 possible actions {0, 1}.\n",
    "        self.action_space = spaces.Discrete(2)\n",
    "\n",
    "        if randomize_actions:\n",
    "            # Initialize the random mapping.\n",
    "            self._mapping_rng = np.random.RandomState(mapping_seed)\n",
    "            self._action_mapping = self._mapping_rng.binomial(1, 0.5, [size-1, size])\n",
    "        else:\n",
    "            warnings.warn(\"Environment is in debug mode (randomize_actions=False). Only randomized_actions=True is the DeepSea environment.\")\n",
    "            self._action_mapping = np.ones([size, size])\n",
    "        \n",
    "        # Compue the theoretical optimal return per episode.\n",
    "        self._unscaled_move_cost = unscaled_move_cost\n",
    "        if not self._deterministic:  # action 'right' only succeeds (1 - 1/N)\n",
    "            optimal_no_cost = (1 - 1 / self._size) ** (self._size - 1)\n",
    "        else:\n",
    "            optimal_no_cost = 1.\n",
    "        self._optimal_return = optimal_no_cost - self._unscaled_move_cost\n",
    "\n",
    "        self._col = 0\n",
    "        self._row = 0\n",
    "        self._bad_episode = False\n",
    "        self._total_bad_episodes = 0\n",
    "        self._denoised_return = 0\n",
    "            \n",
    "        assert render_mode is None or render_mode in self.metadata[\"render_modes\"]\n",
    "        self.render_mode = render_mode\n",
    "        self.window_size = 512  # The size of the PyGame window\n",
    "\n",
    "        \"\"\"\n",
    "        `self.window` is pointer to the window that we draw to. \n",
    "        `self.clock` will be a clock that is used to ensure that the environment is rendered at the correct framerate in\n",
    "        human-mode. \n",
    "        They will remain `None` until human-mode is used for the first time.\n",
    "        \"\"\"\n",
    "        self.window = None\n",
    "        self.clock = None\n",
    "\n",
    "    def step(self, action):\n",
    "        assert self._row < self._size - 1, \"Episode has ended. Please call reset()\"\n",
    "        \n",
    "        # check if action is \"right\"\n",
    "        right_action = (action == self._action_mapping[self._row, self._col])\n",
    "\n",
    "        # state transition\n",
    "        self._row += 1\n",
    "        \n",
    "        if right_action:\n",
    "            if self._rng.rand() > 1 / self._size or self._deterministic:\n",
    "                self._col += 1\n",
    "            else:\n",
    "                self._col -= 1\n",
    "        else:\n",
    "            self._bad_episode = True\n",
    "            self._col -= 1\n",
    "        self._col = np.clip(self._col, 0, self._size - 1)\n",
    "\n",
    "        reached_bottom = (self._row == self._size - 1)\n",
    "        reached_goal = (self._col == self._size - 1)\n",
    "\n",
    "        # reward calculation\n",
    "        reward = 1.0 * reached_goal - (self._unscaled_move_cost / self._size) * right_action\n",
    "        \n",
    "        observation = self._get_obs()\n",
    "        terminated = reached_bottom\n",
    "        truncated = False\n",
    "        info = self._get_info()\n",
    "        \n",
    "        if self.render_mode == \"human\":\n",
    "            self._render_frame()\n",
    "        return observation, reward, terminated, truncated, info\n",
    "    \n",
    "    def _get_obs(self):\n",
    "        return (self._row, self._col)\n",
    "\n",
    "    def _get_info(self):\n",
    "        return {\"action_map\": self._action_mapping, \"bad_trip\": self._bad_episode}\n",
    "    \n",
    "    def reset(self):\n",
    "        self._row = 0\n",
    "        self._col = 0\n",
    "        self._bad_episode = False\n",
    "        \n",
    "        observation = self._get_obs()\n",
    "        info = self._get_info()\n",
    "        if self.render_mode == \"human\":\n",
    "            self._render_frame()\n",
    "        return observation, info\n",
    "    \n",
    "    \n",
    "    def render(self):\n",
    "        raise NotImplementedError\n",
    "        \n",
    "    def _render_frame(self):\n",
    "        raise NotImplementedError\n",
    "        \n",
    "    def get_size(self):\n",
    "        return self._size\n",
    "    \n",
    "    def close(self):\n",
    "        if self.window is not None:\n",
    "            pygame.display.quit()\n",
    "            pygame.quit()"
   ]
  },
  {
   "cell_type": "code",
   "execution_count": 117,
   "id": "ce8ebfd3",
   "metadata": {
    "scrolled": true
   },
   "outputs": [
    {
     "name": "stdout",
     "output_type": "stream",
     "text": [
      "((1, 1), -0.002, False, False, {'action_map': array([[1, 1, 1, 1, 0],\n",
      "       [1, 0, 1, 1, 0],\n",
      "       [1, 1, 1, 1, 0],\n",
      "       [0, 0, 1, 1, 1]]), 'bad_trip': False})\n",
      "((2, 2), -0.002, False, False, {'action_map': array([[1, 1, 1, 1, 0],\n",
      "       [1, 0, 1, 1, 0],\n",
      "       [1, 1, 1, 1, 0],\n",
      "       [0, 0, 1, 1, 1]]), 'bad_trip': False})\n",
      "((3, 1), -0.002, False, False, {'action_map': array([[1, 1, 1, 1, 0],\n",
      "       [1, 0, 1, 1, 0],\n",
      "       [1, 1, 1, 1, 0],\n",
      "       [0, 0, 1, 1, 1]]), 'bad_trip': False})\n",
      "((4, 0), 0.0, True, False, {'action_map': array([[1, 1, 1, 1, 0],\n",
      "       [1, 0, 1, 1, 0],\n",
      "       [1, 1, 1, 1, 0],\n",
      "       [0, 0, 1, 1, 1]]), 'bad_trip': True})\n"
     ]
    }
   ],
   "source": [
    "env_size = 5\n",
    "env = DeepSeaEnv(size=env_size, \n",
    "                 deterministic=False, \n",
    "                 unscaled_move_cost=0.01, \n",
    "                 randomize_actions=True, seed=1, mapping_seed=0)\n",
    "\n",
    "for a in [env._get_info()['action_map'][i,i] for i in range(env_size-1)]:\n",
    "    print(env.step(a))"
   ]
  },
  {
   "cell_type": "markdown",
   "id": "2297b2a0",
   "metadata": {},
   "source": [
    "## Different observaion wrappers around DeepSea environment"
   ]
  },
  {
   "cell_type": "code",
   "execution_count": 168,
   "id": "c4fed5bc",
   "metadata": {},
   "outputs": [],
   "source": [
    "from typing import Optional\n",
    "import gym\n",
    "from gym import spaces\n",
    "import pygame\n",
    "import numpy as np\n",
    "import warnings\n",
    "\n",
    "class Normalize(gym.ObservationWrapper):\n",
    "    def __init__(self, env):\n",
    "        super().__init__(env)\n",
    "        self.observation_space = spaces.Box(shape=(2,), low=0.0, high=1.0, dtype=np.float32)\n",
    "        self._n = env._size\n",
    "\n",
    "    def observation(self, obs):\n",
    "        x, y = obs\n",
    "        return (x/self._n, y/self._n)\n",
    "\n",
    "class Pictorial(gym.ObservationWrapper):\n",
    "    def __init__(self, env, size=32):\n",
    "        super().__init__(env)\n",
    "        self.observation_space = spaces.Box(shape=(size, size), low=0, high=255, dtype=np.uint8)\n",
    "        self._n = size\n",
    "        self._multiplier = int(size / env.get_size())\n",
    "        \n",
    "    def observation(self, obs):\n",
    "        x, y = obs\n",
    "        ob = np.zeros((self._n, self._n))\n",
    "        ob[x * self._multiplier, y * self._multiplier] = 255\n",
    "        return ob\n",
    "    \n",
    "\n",
    "from scipy.ndimage import gaussian_filter\n",
    "\n",
    "class Blurred(Pictorial):\n",
    "    def __init__(self, env, size=32, sigma=1):\n",
    "        super().__init__(env, size=size)\n",
    "        self._sigma = sigma\n",
    "        \n",
    "    def observation(self, obs):\n",
    "        return gaussian_filter(obs, sigma=1)\n",
    "\n",
    "class Scrambled(Pictorial):\n",
    "    def __init__(self, env, size=32, seed=None):\n",
    "        super().__init__(env, size=size)\n",
    "        self._size = size\n",
    "        grid = np.array([[[x, y] for y in range (size)] for x in range(size)])\n",
    "        grid = grid.reshape(size*size, 2)\n",
    "        grid = grid[np.random.default_rng(seed).permutation(size * size)]\n",
    "        grid = grid.reshape((size,size,2))\n",
    "        self.grid_x = grid[:,:,0]\n",
    "        self.grid_y = grid[:,:,1]\n",
    "        \n",
    "    def observation(self, obs):\n",
    "        return obs[self.grid_x, self.grid_y]\n",
    "\n",
    "# note to self: AlexNet has 4096 neurons in the FC layers. It'll be okay to go up to 32."
   ]
  },
  {
   "cell_type": "code",
   "execution_count": 177,
   "id": "9d5ecf11",
   "metadata": {},
   "outputs": [],
   "source": [
    "env_size = 32\n",
    "env = DeepSeaEnv(size=env_size, \n",
    "                 deterministic=False, \n",
    "                 unscaled_move_cost=0.01, \n",
    "                 randomize_actions=True, seed=2, mapping_seed=0)\n",
    "env2 = Scrambled(Blurred(Pictorial(env)))"
   ]
  },
  {
   "cell_type": "code",
   "execution_count": 178,
   "id": "ffde5cbc",
   "metadata": {
    "scrolled": false
   },
   "outputs": [
    {
     "data": {
      "image/png": "[encoded data removed]",
      "text/plain": [
       "<Figure size 640x480 with 1 Axes>"
      ]
     },
     "metadata": {},
     "output_type": "display_data"
    },
    {
     "data": {
      "image/png": "[encoded data removed]",
      "text/plain": [
       "<Figure size 640x480 with 1 Axes>"
      ]
     },
     "metadata": {},
     "output_type": "display_data"
    },
    {
     "name": "stdout",
     "output_type": "stream",
     "text": [
      "(1, 1)\n"
     ]
    },
    {
     "data": {
      "image/png": "[encoded data removed]",
      "text/plain": [
       "<Figure size 640x480 with 1 Axes>"
      ]
     },
     "metadata": {},
     "output_type": "display_data"
    },
    {
     "name": "stdout",
     "output_type": "stream",
     "text": [
      "(2, 0)\n"
     ]
    },
    {
     "data": {
      "image/png": "[encoded data removed]",
      "text/plain": [
       "<Figure size 640x480 with 1 Axes>"
      ]
     },
     "metadata": {},
     "output_type": "display_data"
    },
    {
     "name": "stdout",
     "output_type": "stream",
     "text": [
      "(3, 0)\n"
     ]
    },
    {
     "data": {
      "image/png": "[encoded data removed]",
      "text/plain": [
       "<Figure size 640x480 with 1 Axes>"
      ]
     },
     "metadata": {},
     "output_type": "display_data"
    },
    {
     "name": "stdout",
     "output_type": "stream",
     "text": [
      "(4, 0)\n"
     ]
    },
    {
     "data": {
      "image/png": "[encoded data removed]",
      "text/plain": [
       "<Figure size 640x480 with 1 Axes>"
      ]
     },
     "metadata": {},
     "output_type": "display_data"
    },
    {
     "name": "stdout",
     "output_type": "stream",
     "text": [
      "(5, 0)\n"
     ]
    },
    {
     "data": {
      "image/png": "[encoded data removed]",
      "text/plain": [
       "<Figure size 640x480 with 1 Axes>"
      ]
     },
     "metadata": {},
     "output_type": "display_data"
    },
    {
     "name": "stdout",
     "output_type": "stream",
     "text": [
      "(6, 1)\n"
     ]
    },
    {
     "data": {
      "image/png": "[encoded data removed]",
      "text/plain": [
       "<Figure size 640x480 with 1 Axes>"
      ]
     },
     "metadata": {},
     "output_type": "display_data"
    },
    {
     "name": "stdout",
     "output_type": "stream",
     "text": [
      "(7, 0)\n"
     ]
    },
    {
     "data": {
      "image/png": "[encoded data removed]",
      "text/plain": [
       "<Figure size 640x480 with 1 Axes>"
      ]
     },
     "metadata": {},
     "output_type": "display_data"
    },
    {
     "name": "stdout",
     "output_type": "stream",
     "text": [
      "(8, 1)\n"
     ]
    },
    {
     "data": {
      "image/png": "[encoded data removed]",
      "text/plain": [
       "<Figure size 640x480 with 1 Axes>"
      ]
     },
     "metadata": {},
     "output_type": "display_data"
    },
    {
     "name": "stdout",
     "output_type": "stream",
     "text": [
      "(9, 2)\n"
     ]
    },
    {
     "data": {
      "image/png": "[encoded data removed]",
      "text/plain": [
       "<Figure size 640x480 with 1 Axes>"
      ]
     },
     "metadata": {},
     "output_type": "display_data"
    },
    {
     "name": "stdout",
     "output_type": "stream",
     "text": [
      "(10, 1)\n"
     ]
    }
   ],
   "source": [
    "plt.imshow(env2.reset()[0], cmap=plt.cm.binary)\n",
    "plt.show()\n",
    "for a in [env._get_info()['action_map'][i,i] for i in range(env_size-1)][:10]:\n",
    "    plt.imshow(env2.step(a)[0], cmap=plt.cm.binary)\n",
    "    plt.show()\n",
    "    print(env._get_obs())"
   ]
  },
  {
   "cell_type": "markdown",
   "id": "9fa5c290",
   "metadata": {},
   "source": [
    "## Register the environment"
   ]
  },
  {
   "cell_type": "code",
   "execution_count": null,
   "id": "e4649c85",
   "metadata": {},
   "outputs": [],
   "source": [
    "from gym.envs.registration import register\n",
    "\n",
    "register(\n",
    "    id='gym_examples/GridWorld-v0',\n",
    "    entry_point='gym_examples.envs:GridWorldEnv',\n",
    "    max_episode_steps=300,\n",
    ")\n"
   ]
  }
 ],
 "metadata": {
  "@webio": {
   "lastCommId": null,
   "lastKernelId": null
  },
  "kernelspec": {
   "display_name": "Python 3 (ipykernel)",
   "language": "python",
   "name": "python3"
  },
  "language_info": {
   "codemirror_mode": {
    "name": "ipython",
    "version": 3
   },
   "file_extension": ".py",
   "mimetype": "text/x-python",
   "name": "python",
   "nbconvert_exporter": "python",
   "pygments_lexer": "ipython3",
   "version": "3.9.13"
  }
 },
 "nbformat": 4,
 "nbformat_minor": 5
}
